{
  "nbformat": 4,
  "nbformat_minor": 0,
  "metadata": {
    "colab": {
      "name": "RotationOfArray[ Juggling algorithm (for left rotation) ].ipynb",
      "version": "0.3.2",
      "provenance": []
    },
    "kernelspec": {
      "name": "python3",
      "display_name": "Python 3"
    }
  },
  "cells": [
    {
      "cell_type": "markdown",
      "metadata": {
        "id": "mupfttFuFo4l",
        "colab_type": "text"
      },
      "source": [
        "# Left Rotation:\n",
        "## Juggling Algorithm\n",
        "Let arr[] be {1, 2, 3, 4, 5, 6, 7, 8, 9, 10, 11, 12}\n",
        "\n",
        "a)    Elements are first moved in first set – (See below diagram for this movement)\n",
        "![alt text](https://cdncontribute.geeksforgeeks.org/wp-content/uploads/arra.jpg)\n",
        "\n",
        "ArrayRotation\n",
        "\n",
        "          arr[] after this step --> {4 2 3 7 5 6 10 8 9 1 11 12}\n",
        "\n",
        "b)    Then in second set.\n",
        "          arr[] after this step --> {4 5 3 7 8 6 10 11 9 1 2 12}\n",
        "\n",
        "c)    Finally in third set.\n",
        "          arr[] after this step --> {4 5 6 7 8 9 10 11 12 1 2 3}\n"
      ]
    },
    {
      "cell_type": "code",
      "metadata": {
        "id": "T99wT5OPFnn6",
        "colab_type": "code",
        "colab": {
          "base_uri": "https://localhost:8080/",
          "height": 34
        },
        "outputId": "f25fe707-cc51-4df1-ccdb-9b8842670e8e"
      },
      "source": [
        "#Function to left rotate arr[] of size n by d \n",
        "def leftRotate(arr, d, n): \n",
        "\tfor i in range(gcd(d,n)): \n",
        "\t\t\n",
        "\t\t# move i-th values of blocks \n",
        "\t\ttemp = arr[i] \n",
        "\t\tj = i \n",
        "\t\twhile 1: \n",
        "\t\t\tk = j + d \n",
        "\t\t\tif k >= n: \n",
        "\t\t\t\tk = k - n \n",
        "\t\t\tif k == i: \n",
        "\t\t\t\tbreak\n",
        "\t\t\tarr[j] = arr[k] \n",
        "\t\t\tj = k \n",
        "\t\tarr[j] = temp \n",
        "\n",
        "#UTILITY FUNCTIONS \n",
        "#function to print an array \n",
        "def printArray(arr, size): \n",
        "\tfor i in range(size): \n",
        "\t\tprint (\"%d\" % arr[i], end=\" \") \n",
        "\n",
        "#Fuction to get gcd of a and b \n",
        "def gcd(a, b): \n",
        "\tif b == 0: \n",
        "\t\treturn a; \n",
        "\telse: \n",
        "\t\treturn gcd(b, a%b) \n",
        "\n",
        "# Driver program to test above functions \n",
        "arr = [1, 2, 3, 4, 5, 6, 7] \n",
        "leftRotate(arr, 2, 7) \n",
        "printArray(arr, 7) \n",
        "\n",
        "# This code is contributed by Shreyanshi Arun \n"
      ],
      "execution_count": 2,
      "outputs": [
        {
          "output_type": "stream",
          "text": [
            "3 4 5 6 7 1 2 "
          ],
          "name": "stdout"
        }
      ]
    },
    {
      "cell_type": "markdown",
      "metadata": {
        "id": "0EGLJBz3GicD",
        "colab_type": "text"
      },
      "source": [
        "# Right Rotaion:"
      ]
    },
    {
      "cell_type": "code",
      "metadata": {
        "id": "EzdKHkZMGnn0",
        "colab_type": "code",
        "colab": {
          "base_uri": "https://localhost:8080/",
          "height": 34
        },
        "outputId": "fcd48835-2919-4233-a0df-5afff317d402"
      },
      "source": [
        "# Right Rotating a list to n positions \n",
        "n = 3\n",
        "\n",
        "list_1 = [1, 2, 3, 4, 5, 6] \n",
        "list_1 = (list_1[-n:] + list_1[:-n]) \n",
        "\n",
        "print(list_1) \n"
      ],
      "execution_count": 3,
      "outputs": [
        {
          "output_type": "stream",
          "text": [
            "[4, 5, 6, 1, 2, 3]\n"
          ],
          "name": "stdout"
        }
      ]
    }
  ]
}